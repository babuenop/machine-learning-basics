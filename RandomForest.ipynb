{
 "cells": [
  {
   "cell_type": "code",
   "execution_count": 28,
   "id": "7ae80649",
   "metadata": {},
   "outputs": [
    {
     "name": "stdout",
     "output_type": "stream",
     "text": [
      "📊 Classification Report:\n",
      "\n",
      "              precision    recall  f1-score   support\n",
      "\n",
      "           0      0.735     0.819     0.775       105\n",
      "           1      0.694     0.581     0.632        74\n",
      "\n",
      "    accuracy                          0.721       179\n",
      "   macro avg      0.714     0.700     0.704       179\n",
      "weighted avg      0.718     0.721     0.716       179\n",
      "\n",
      "✅ Accuracy: 0.721\n",
      "✅ Modelo guardado como modelo_pipeline_titanic.pkl\n"
     ]
    }
   ],
   "source": [
    "import pandas as pd\n",
    "from sklearn.ensemble import RandomForestClassifier\n",
    "from sklearn.pipeline import Pipeline\n",
    "from sklearn.impute import SimpleImputer\n",
    "from sklearn.model_selection import train_test_split\n",
    "from sklearn.metrics import classification_report, accuracy_score\n",
    "import pickle\n",
    "\n",
    "# 1. Cargar dataset\n",
    "titanic = pd.read_csv(\"C:\\\\Users\\\\abuen\\\\OneDrive\\\\00 - BUSINNESS INTELLIGENCE\\\\MODULO_2\\\\DATASET\\\\titanic.csv\")\n",
    "\n",
    "# 2. Seleccionar solo columnas numéricas necesarias\n",
    "columnas_modelo = ['pclass', 'age', 'sibsp', 'parch', 'fare']\n",
    "titanic = titanic[columnas_modelo + ['survived']]\n",
    "\n",
    "# 3. Separar X e y\n",
    "X = titanic[columnas_modelo]\n",
    "y = titanic['survived']\n",
    "\n",
    "# 4. Separar en train y test para evaluación\n",
    "X_train, X_test, y_train, y_test = train_test_split(X, y, test_size=0.2, random_state=42)\n",
    "\n",
    "# 5. Crear pipeline (imputador + clasificador)\n",
    "pipeline = Pipeline(steps=[\n",
    "    ('imputer', SimpleImputer(strategy='mean')),\n",
    "    ('modelo', RandomForestClassifier(random_state=42))\n",
    "])\n",
    "\n",
    "# 6. Entrenar el pipeline\n",
    "pipeline.fit(X_train, y_train)\n",
    "\n",
    "# 7. Predecir en test y mostrar métricas\n",
    "y_pred = pipeline.predict(X_test)\n",
    "\n",
    "print(\"📊 Classification Report:\\n\")\n",
    "print(classification_report(y_test, y_pred, digits=3))\n",
    "print(f\"✅ Accuracy: {round(accuracy_score(y_test, y_pred), 3)}\")\n",
    "\n",
    "# 8. Guardar modelo entrenado con pipeline\n",
    "with open(\"C:\\\\Users\\\\abuen\\\\OneDrive\\\\00 - BUSINNESS INTELLIGENCE\\\\MODULO_2\\\\CURSO\\\\modelo_pipeline_titanic.pkl\", \"wb\") as f:\n",
    "    pickle.dump(pipeline, f)\n",
    "\n",
    "print(\"✅ Modelo guardado como modelo_pipeline_titanic.pkl\")\n"
   ]
  },
  {
   "cell_type": "code",
   "execution_count": 27,
   "id": "8a89d83f",
   "metadata": {},
   "outputs": [],
   "source": [
    "# Guardar un modelo\n",
    "import pickle\n",
    "with open(\"modelotitanic.pkl\", \"wb\") as f:\n",
    "    pickle.dump(pipeline, f)\n",
    "    "
   ]
  },
  {
   "cell_type": "markdown",
   "id": "b75ceef5",
   "metadata": {},
   "source": []
  },
  {
   "cell_type": "markdown",
   "id": "a5d799b5",
   "metadata": {},
   "source": [
    "#### Codigo para el Script en Power BI 'dataset' contiene los datos de entrada para este script\n",
    "import pickle\n",
    "with open(\"C:\\\\Users\\\\abuen\\\\OneDrive\\\\00 - BUSINNESS INTELLIGENCE\\\\MODULO_2\\\\CURSO\\\\modelotitanic.pkl\", \"rb\") as f:\n",
    "    modelo = pickle.load(f)\n",
    "\n",
    "# Predecir\n",
    "dataset[\"prediccion\"] = modelo.predict(dataset[['pclass', 'age', 'sibsp', 'parch', 'fare']])"
   ]
  }
 ],
 "metadata": {
  "kernelspec": {
   "display_name": "base",
   "language": "python",
   "name": "python3"
  },
  "language_info": {
   "codemirror_mode": {
    "name": "ipython",
    "version": 3
   },
   "file_extension": ".py",
   "mimetype": "text/x-python",
   "name": "python",
   "nbconvert_exporter": "python",
   "pygments_lexer": "ipython3",
   "version": "3.10.9"
  }
 },
 "nbformat": 4,
 "nbformat_minor": 5
}
