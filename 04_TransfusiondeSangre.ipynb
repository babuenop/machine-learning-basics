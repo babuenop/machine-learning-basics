{
 "cells": [
  {
   "cell_type": "code",
   "execution_count": 5,
   "id": "3c129bb8",
   "metadata": {},
   "outputs": [],
   "source": [
    "import pandas as pd\n",
    "import matplotlib.pyplot as plt\n",
    "import seaborn as sns\n",
    "import pandas as pd\n",
    "import matplotlib.pyplot as plt\n",
    "import numpy as np\n",
    "import seaborn as sns\n",
    "from sklearn.model_selection import train_test_split\n",
    "from sklearn.datasets import load_iris\n",
    "from sklearn.model_selection import train_test_split\n",
    "from sklearn.linear_model import LogisticRegression\n",
    "from sklearn.metrics import accuracy_score, confusion_matrix, classification_report\n",
    "from sklearn.tree import DecisionTreeClassifier\n",
    "from sklearn.ensemble import RandomForestClassifier\n",
    "\n",
    "# Cargar dataset desde OpenML\n",
    "df = pd.read_csv(\"C:\\\\Users\\\\abuen\\\\OneDrive\\\\00 - BUSINNESS INTELLIGENCE\\\\MODULO_2\\\\DATASET\\\\transfusion.csv\")\n"
   ]
  },
  {
   "cell_type": "markdown",
   "id": "40d9a1d0",
   "metadata": {},
   "source": [
    "## Exploracion de datos "
   ]
  },
  {
   "cell_type": "code",
   "execution_count": 6,
   "id": "668b8d85",
   "metadata": {},
   "outputs": [
    {
     "data": {
      "text/html": [
       "<div>\n",
       "<style scoped>\n",
       "    .dataframe tbody tr th:only-of-type {\n",
       "        vertical-align: middle;\n",
       "    }\n",
       "\n",
       "    .dataframe tbody tr th {\n",
       "        vertical-align: top;\n",
       "    }\n",
       "\n",
       "    .dataframe thead th {\n",
       "        text-align: right;\n",
       "    }\n",
       "</style>\n",
       "<table border=\"1\" class=\"dataframe\">\n",
       "  <thead>\n",
       "    <tr style=\"text-align: right;\">\n",
       "      <th></th>\n",
       "      <th>Recency (months)</th>\n",
       "      <th>Frequency (times)</th>\n",
       "      <th>Monetary (c.c. blood)</th>\n",
       "      <th>Time (months)</th>\n",
       "      <th>whether he/she donated blood in March 2007</th>\n",
       "    </tr>\n",
       "  </thead>\n",
       "  <tbody>\n",
       "    <tr>\n",
       "      <th>0</th>\n",
       "      <td>2</td>\n",
       "      <td>50</td>\n",
       "      <td>12500</td>\n",
       "      <td>98</td>\n",
       "      <td>1</td>\n",
       "    </tr>\n",
       "    <tr>\n",
       "      <th>1</th>\n",
       "      <td>0</td>\n",
       "      <td>13</td>\n",
       "      <td>3250</td>\n",
       "      <td>28</td>\n",
       "      <td>1</td>\n",
       "    </tr>\n",
       "    <tr>\n",
       "      <th>2</th>\n",
       "      <td>1</td>\n",
       "      <td>16</td>\n",
       "      <td>4000</td>\n",
       "      <td>35</td>\n",
       "      <td>1</td>\n",
       "    </tr>\n",
       "    <tr>\n",
       "      <th>3</th>\n",
       "      <td>2</td>\n",
       "      <td>20</td>\n",
       "      <td>5000</td>\n",
       "      <td>45</td>\n",
       "      <td>1</td>\n",
       "    </tr>\n",
       "    <tr>\n",
       "      <th>4</th>\n",
       "      <td>1</td>\n",
       "      <td>24</td>\n",
       "      <td>6000</td>\n",
       "      <td>77</td>\n",
       "      <td>0</td>\n",
       "    </tr>\n",
       "    <tr>\n",
       "      <th>5</th>\n",
       "      <td>4</td>\n",
       "      <td>4</td>\n",
       "      <td>1000</td>\n",
       "      <td>4</td>\n",
       "      <td>0</td>\n",
       "    </tr>\n",
       "    <tr>\n",
       "      <th>6</th>\n",
       "      <td>2</td>\n",
       "      <td>7</td>\n",
       "      <td>1750</td>\n",
       "      <td>14</td>\n",
       "      <td>1</td>\n",
       "    </tr>\n",
       "    <tr>\n",
       "      <th>7</th>\n",
       "      <td>1</td>\n",
       "      <td>12</td>\n",
       "      <td>3000</td>\n",
       "      <td>35</td>\n",
       "      <td>0</td>\n",
       "    </tr>\n",
       "    <tr>\n",
       "      <th>8</th>\n",
       "      <td>2</td>\n",
       "      <td>9</td>\n",
       "      <td>2250</td>\n",
       "      <td>22</td>\n",
       "      <td>1</td>\n",
       "    </tr>\n",
       "    <tr>\n",
       "      <th>9</th>\n",
       "      <td>5</td>\n",
       "      <td>46</td>\n",
       "      <td>11500</td>\n",
       "      <td>98</td>\n",
       "      <td>1</td>\n",
       "    </tr>\n",
       "    <tr>\n",
       "      <th>10</th>\n",
       "      <td>4</td>\n",
       "      <td>23</td>\n",
       "      <td>5750</td>\n",
       "      <td>58</td>\n",
       "      <td>0</td>\n",
       "    </tr>\n",
       "    <tr>\n",
       "      <th>11</th>\n",
       "      <td>0</td>\n",
       "      <td>3</td>\n",
       "      <td>750</td>\n",
       "      <td>4</td>\n",
       "      <td>0</td>\n",
       "    </tr>\n",
       "    <tr>\n",
       "      <th>12</th>\n",
       "      <td>2</td>\n",
       "      <td>10</td>\n",
       "      <td>2500</td>\n",
       "      <td>28</td>\n",
       "      <td>1</td>\n",
       "    </tr>\n",
       "    <tr>\n",
       "      <th>13</th>\n",
       "      <td>1</td>\n",
       "      <td>13</td>\n",
       "      <td>3250</td>\n",
       "      <td>47</td>\n",
       "      <td>0</td>\n",
       "    </tr>\n",
       "    <tr>\n",
       "      <th>14</th>\n",
       "      <td>2</td>\n",
       "      <td>6</td>\n",
       "      <td>1500</td>\n",
       "      <td>15</td>\n",
       "      <td>1</td>\n",
       "    </tr>\n",
       "    <tr>\n",
       "      <th>15</th>\n",
       "      <td>2</td>\n",
       "      <td>5</td>\n",
       "      <td>1250</td>\n",
       "      <td>11</td>\n",
       "      <td>1</td>\n",
       "    </tr>\n",
       "    <tr>\n",
       "      <th>16</th>\n",
       "      <td>2</td>\n",
       "      <td>14</td>\n",
       "      <td>3500</td>\n",
       "      <td>48</td>\n",
       "      <td>1</td>\n",
       "    </tr>\n",
       "    <tr>\n",
       "      <th>17</th>\n",
       "      <td>2</td>\n",
       "      <td>15</td>\n",
       "      <td>3750</td>\n",
       "      <td>49</td>\n",
       "      <td>1</td>\n",
       "    </tr>\n",
       "    <tr>\n",
       "      <th>18</th>\n",
       "      <td>2</td>\n",
       "      <td>6</td>\n",
       "      <td>1500</td>\n",
       "      <td>15</td>\n",
       "      <td>1</td>\n",
       "    </tr>\n",
       "    <tr>\n",
       "      <th>19</th>\n",
       "      <td>2</td>\n",
       "      <td>3</td>\n",
       "      <td>750</td>\n",
       "      <td>4</td>\n",
       "      <td>1</td>\n",
       "    </tr>\n",
       "  </tbody>\n",
       "</table>\n",
       "</div>"
      ],
      "text/plain": [
       "    Recency (months)  Frequency (times)  Monetary (c.c. blood)  Time (months)  \\\n",
       "0                  2                 50                  12500             98   \n",
       "1                  0                 13                   3250             28   \n",
       "2                  1                 16                   4000             35   \n",
       "3                  2                 20                   5000             45   \n",
       "4                  1                 24                   6000             77   \n",
       "5                  4                  4                   1000              4   \n",
       "6                  2                  7                   1750             14   \n",
       "7                  1                 12                   3000             35   \n",
       "8                  2                  9                   2250             22   \n",
       "9                  5                 46                  11500             98   \n",
       "10                 4                 23                   5750             58   \n",
       "11                 0                  3                    750              4   \n",
       "12                 2                 10                   2500             28   \n",
       "13                 1                 13                   3250             47   \n",
       "14                 2                  6                   1500             15   \n",
       "15                 2                  5                   1250             11   \n",
       "16                 2                 14                   3500             48   \n",
       "17                 2                 15                   3750             49   \n",
       "18                 2                  6                   1500             15   \n",
       "19                 2                  3                    750              4   \n",
       "\n",
       "    whether he/she donated blood in March 2007  \n",
       "0                                            1  \n",
       "1                                            1  \n",
       "2                                            1  \n",
       "3                                            1  \n",
       "4                                            0  \n",
       "5                                            0  \n",
       "6                                            1  \n",
       "7                                            0  \n",
       "8                                            1  \n",
       "9                                            1  \n",
       "10                                           0  \n",
       "11                                           0  \n",
       "12                                           1  \n",
       "13                                           0  \n",
       "14                                           1  \n",
       "15                                           1  \n",
       "16                                           1  \n",
       "17                                           1  \n",
       "18                                           1  \n",
       "19                                           1  "
      ]
     },
     "execution_count": 6,
     "metadata": {},
     "output_type": "execute_result"
    }
   ],
   "source": [
    "## Visualizacion del dataframe\n",
    "df.head(20)"
   ]
  },
  {
   "cell_type": "code",
   "execution_count": 7,
   "id": "24340677",
   "metadata": {},
   "outputs": [],
   "source": [
    "# Renombrar el nombre de las columnas\n",
    "df.columns = ['Recency', 'Frequency', 'Monetary', 'Time', 'DonatedBlood']"
   ]
  },
  {
   "cell_type": "code",
   "execution_count": 8,
   "id": "ab0d39d4",
   "metadata": {},
   "outputs": [
    {
     "name": "stdout",
     "output_type": "stream",
     "text": [
      "<class 'pandas.core.frame.DataFrame'>\n",
      "RangeIndex: 748 entries, 0 to 747\n",
      "Data columns (total 5 columns):\n",
      " #   Column        Non-Null Count  Dtype\n",
      "---  ------        --------------  -----\n",
      " 0   Recency       748 non-null    int64\n",
      " 1   Frequency     748 non-null    int64\n",
      " 2   Monetary      748 non-null    int64\n",
      " 3   Time          748 non-null    int64\n",
      " 4   DonatedBlood  748 non-null    int64\n",
      "dtypes: int64(5)\n",
      "memory usage: 29.3 KB\n",
      "None\n",
      "          Recency   Frequency      Monetary        Time  DonatedBlood\n",
      "count  748.000000  748.000000    748.000000  748.000000    748.000000\n",
      "mean     9.506684    5.514706   1378.676471   34.282086      0.237968\n",
      "std      8.095396    5.839307   1459.826781   24.376714      0.426124\n",
      "min      0.000000    1.000000    250.000000    2.000000      0.000000\n",
      "25%      2.750000    2.000000    500.000000   16.000000      0.000000\n",
      "50%      7.000000    4.000000   1000.000000   28.000000      0.000000\n",
      "75%     14.000000    7.000000   1750.000000   50.000000      0.000000\n",
      "max     74.000000   50.000000  12500.000000   98.000000      1.000000\n",
      "DonatedBlood\n",
      "0    570\n",
      "1    178\n",
      "Name: count, dtype: int64\n"
     ]
    }
   ],
   "source": [
    "# Ver resumen\n",
    "print(df.info())\n",
    "print(df.describe())\n",
    "print(df['DonatedBlood'].value_counts())"
   ]
  },
  {
   "cell_type": "markdown",
   "id": "9826deae",
   "metadata": {},
   "source": [
    "### Data Dictionary\n",
    "- Recency — months since the last donation\n",
    "- Frequency — total number of donation\n",
    "- Monetary — total blood donated in c.c.\n",
    "- Time — months since the first donation"
   ]
  },
  {
   "cell_type": "code",
   "execution_count": 9,
   "id": "54f9c3f1",
   "metadata": {},
   "outputs": [
    {
     "data": {
      "image/png": "[encoded data removed]",
      "text/plain": [
       "<Figure size 1000x600 with 6 Axes>"
      ]
     },
     "metadata": {},
     "output_type": "display_data"
    }
   ],
   "source": [
    "import seaborn as sns\n",
    "import matplotlib.pyplot as plt\n",
    "\n",
    "# Histograma de las variables\n",
    "df.hist(figsize=(10, 6))\n",
    "plt.tight_layout()\n",
    "plt.show()"
   ]
  },
  {
   "cell_type": "code",
   "execution_count": 10,
   "id": "72102bed",
   "metadata": {},
   "outputs": [
    {
     "name": "stdout",
     "output_type": "stream",
     "text": [
      "          Recency   Frequency      Monetary        Time  DonatedBlood\n",
      "count  748.000000  748.000000    748.000000  748.000000    748.000000\n",
      "mean     9.506684    5.514706   1378.676471   34.282086      0.237968\n",
      "std      8.095396    5.839307   1459.826781   24.376714      0.426124\n",
      "min      0.000000    1.000000    250.000000    2.000000      0.000000\n",
      "25%      2.750000    2.000000    500.000000   16.000000      0.000000\n",
      "50%      7.000000    4.000000   1000.000000   28.000000      0.000000\n",
      "75%     14.000000    7.000000   1750.000000   50.000000      0.000000\n",
      "max     74.000000   50.000000  12500.000000   98.000000      1.000000\n"
     ]
    }
   ],
   "source": [
    "print(df.describe())"
   ]
  },
  {
   "cell_type": "code",
   "execution_count": 11,
   "id": "7ea665e9",
   "metadata": {},
   "outputs": [
    {
     "data": {
      "image/png": "[encoded data removed]",
      "text/plain": [
       "<Figure size 640x480 with 2 Axes>"
      ]
     },
     "metadata": {},
     "output_type": "display_data"
    }
   ],
   "source": [
    "# Correlación\n",
    "sns.heatmap(df.corr(), annot=True, cmap='coolwarm')\n",
    "plt.title(\"Matriz de Correlación\")\n",
    "plt.show()"
   ]
  },
  {
   "cell_type": "markdown",
   "id": "aa203a08",
   "metadata": {},
   "source": [
    "### Entrenamiento del Modelo (Valiable Objetivo Donate Blood)"
   ]
  },
  {
   "cell_type": "code",
   "execution_count": 31,
   "id": "f67549fc",
   "metadata": {},
   "outputs": [],
   "source": [
    "from sklearn.model_selection import train_test_split\n",
    "\n",
    "# Variables predictoras y objetivo\n",
    "X = df[['Recency', 'Frequency', 'Monetary', 'Time']]\n",
    "y = df['DonatedBlood']\n",
    "\n",
    "# División entrenamiento/test\n",
    "X_train, X_test, y_train, y_test = train_test_split(X, y, test_size=0.2, random_state=42)\n"
   ]
  },
  {
   "cell_type": "markdown",
   "id": "a2480d68",
   "metadata": {},
   "source": [
    "#### ✅ Código para comparar los 3 modelos"
   ]
  },
  {
   "cell_type": "code",
   "execution_count": 48,
   "id": "2f127f4b",
   "metadata": {},
   "outputs": [
    {
     "name": "stdout",
     "output_type": "stream",
     "text": [
      "Clases\n",
      "- 0\tNo donante (una persona que NO donó sangre). \n",
      "- 1\tDonante (una persona que SÍ donó sangre) \n",
      "\n",
      "=== Random Forest ===\n",
      "              precision    recall  f1-score   support\n",
      "\n",
      "           0       0.78      0.88      0.82       113\n",
      "           1       0.39      0.24      0.30        37\n",
      "\n",
      "    accuracy                           0.72       150\n",
      "   macro avg       0.59      0.56      0.56       150\n",
      "weighted avg       0.68      0.72      0.70       150\n",
      "\n",
      "\n",
      "=== Regresión Logística (NO balanceada) ===\n",
      "              precision    recall  f1-score   support\n",
      "\n",
      "           0       0.77      0.97      0.86       113\n",
      "           1       0.57      0.11      0.18        37\n",
      "\n",
      "    accuracy                           0.76       150\n",
      "   macro avg       0.67      0.54      0.52       150\n",
      "weighted avg       0.72      0.76      0.69       150\n",
      "\n",
      "\n",
      "=== Árbol de Decisión ===\n",
      "              precision    recall  f1-score   support\n",
      "\n",
      "           0       0.76      0.80      0.78       113\n",
      "           1       0.26      0.22      0.24        37\n",
      "\n",
      "    accuracy                           0.65       150\n",
      "   macro avg       0.51      0.51      0.51       150\n",
      "weighted avg       0.63      0.65      0.64       150\n",
      "\n"
     ]
    }
   ],
   "source": [
    "from sklearn.ensemble import RandomForestClassifier\n",
    "from sklearn.linear_model import LogisticRegression\n",
    "from sklearn.tree import DecisionTreeClassifier\n",
    "from sklearn.metrics import classification_report\n",
    "\n",
    "print(\"Clases\")\n",
    "print (\"- 0\tNo donante (una persona que NO donó sangre). \")\n",
    "print (\"- 1\tDonante (una persona que SÍ donó sangre) \\n\")\n",
    "\n",
    "# MODELO 1: Random Forest\n",
    "rf_model = RandomForestClassifier(random_state=42)\n",
    "rf_model.fit(X_train, y_train)\n",
    "y_pred_rf = rf_model.predict(X_test)\n",
    "print(\"=== Random Forest ===\")\n",
    "print(classification_report(y_test, y_pred_rf))\n",
    "\n",
    "\n",
    "# MODELO 2: Regresión Logística (NO balanceada)\n",
    "log_unbalanced = LogisticRegression(random_state=42, max_iter=1000)\n",
    "log_unbalanced.fit(X_train, y_train)\n",
    "y_pred_log_unbalanced = log_unbalanced.predict(X_test)\n",
    "print(\"\\n=== Regresión Logística (NO balanceada) ===\")\n",
    "print(classification_report(y_test, y_pred_log_unbalanced))\n",
    "\n",
    "\"\"\" # MODELO 3: Regresión Logística (Balanceada)\n",
    "log_balanced = LogisticRegression(class_weight='balanced', random_state=42, max_iter=1000)\n",
    "log_balanced.fit(X_train, y_train)\n",
    "y_pred_log_balanced = log_balanced.predict(X_test)\n",
    "print(\"\\n=== Regresión Logística (Balanceada) ===\")\n",
    "print(classification_report(y_test, y_pred_log_balanced)) \"\"\"\n",
    "\n",
    "# MODELO 4: Árbol de Decisión\n",
    "tree_model = DecisionTreeClassifier(random_state=42)\n",
    "tree_model.fit(X_train, y_train)\n",
    "y_pred_tree = tree_model.predict(X_test)\n",
    "print(\"\\n=== Árbol de Decisión ===\")\n",
    "print(classification_report(y_test, y_pred_tree))\n",
    "\n",
    "\n"
   ]
  },
  {
   "cell_type": "code",
   "execution_count": 35,
   "id": "690cbdb2",
   "metadata": {},
   "outputs": [
    {
     "data": {
      "image/png": "[encoded data removed]",
      "text/plain": [
       "<Figure size 800x500 with 1 Axes>"
      ]
     },
     "metadata": {},
     "output_type": "display_data"
    }
   ],
   "source": [
    "import seaborn as sns\n",
    "import matplotlib.pyplot as plt\n",
    "from sklearn.ensemble import RandomForestClassifier\n",
    "\n",
    "# Lista de características\n",
    "features = ['Recency', 'Frequency', 'Monetary', 'Time']\n",
    "\n",
    "# Entrenar modelo\n",
    "model = RandomForestClassifier(random_state=42)\n",
    "model.fit(X, y)\n",
    "\n",
    "# Obtener importancias\n",
    "importances = model.feature_importances_\n",
    "importances_dict = dict(zip(X.columns, importances))\n",
    "importances_ordered = [importances_dict.get(feature, 0) for feature in features]\n",
    "\n",
    "# Graficar\n",
    "plt.figure(figsize=(8, 5))\n",
    "sns.barplot(x=features, y=importances_ordered, hue=features, legend=False,\n",
    "            palette='bright', saturation=2.0, edgecolor='black', linewidth=2)\n",
    "plt.title(\"Importancia de cada característica\")\n",
    "plt.ylabel(\"Importancia\")\n",
    "plt.xlabel(\"Características\")\n",
    "plt.xticks(rotation=45, ha='right')\n",
    "plt.grid(axis='y', linestyle='--', alpha=0.7)\n",
    "plt.tight_layout()\n",
    "plt.show()\n",
    "\n"
   ]
  },
  {
   "cell_type": "markdown",
   "id": "0cfc4f59",
   "metadata": {},
   "source": [
    "### Manejo de Muestras Imbalanceadas"
   ]
  },
  {
   "cell_type": "markdown",
   "id": "a2ba2241",
   "metadata": {},
   "source": [
    "🎯 Este balanceo se hace para evitar que modelos de clasificación como regresión logística o árboles de decisión se inclinen hacia la clase mayoritaria, lo cual es común cuando hay desbalance de clases."
   ]
  },
  {
   "cell_type": "code",
   "execution_count": null,
   "id": "7ac25545",
   "metadata": {},
   "outputs": [
    {
     "data": {
      "text/plain": [
       "DonatedBlood\n",
       "0    178\n",
       "1    178\n",
       "Name: count, dtype: int64"
      ]
     },
     "execution_count": 36,
     "metadata": {},
     "output_type": "execute_result"
    }
   ],
   "source": [
    "from sklearn.utils import resample\n",
    "\n",
    "# Separar clases\n",
    "df_majority = df[df.DonatedBlood == 0]\n",
    "df_minority = df[df.DonatedBlood == 1]\n",
    "\n",
    "# Submuestreo de la clase mayoritaria\n",
    "df_majority_downsampled = resample(df_majority,\n",
    "                                   replace=False,\n",
    "                                   n_samples=len(df_minority),\n",
    "                                   random_state=42)\n",
    "\n",
    "# Concatenar\n",
    "df_balanced = pd.concat([df_majority_downsampled, df_minority])\n",
    "df_balanced['DonatedBlood'].value_counts() "
   ]
  },
  {
   "cell_type": "code",
   "execution_count": 23,
   "id": "4a5dcc29",
   "metadata": {},
   "outputs": [],
   "source": [
    "df_minority_upsampled = resample(\n",
    "    df_minority, \n",
    "    replace=True,               # con reemplazo → se pueden repetir\n",
    "    n_samples=len(df_majority),# igualar tamaño de la clase 0\n",
    "    random_state=42\n",
    ")\n",
    "\n",
    "# Combinar clases\n",
    "df_balanced = pd.concat([df_majority, df_minority_upsampled])"
   ]
  },
  {
   "cell_type": "code",
   "execution_count": 24,
   "id": "2a9068e7",
   "metadata": {},
   "outputs": [
    {
     "name": "stdout",
     "output_type": "stream",
     "text": [
      "     Recency  Frequency  Monetary  Time  DonatedBlood\n",
      "323       14          8      2000    50             1\n",
      "263        2          3       750    38             1\n",
      "20         2          3       750     4             1\n",
      "335       16          3       750    21             1\n",
      "165        2          1       250     2             1\n",
      "..       ...        ...       ...   ...           ...\n",
      "538        2          8      2000    38             1\n",
      "119        2         11      2750    79             1\n",
      "64         2          3       750     9             1\n",
      "365       14          2       500    21             1\n",
      "74         2          2       500     4             1\n",
      "\n",
      "[570 rows x 5 columns]\n"
     ]
    }
   ],
   "source": [
    "print(df_minority_upsampled)"
   ]
  },
  {
   "cell_type": "code",
   "execution_count": 25,
   "id": "5dacd230",
   "metadata": {},
   "outputs": [],
   "source": [
    "# Separar X e y\n",
    "X_balanced = df_balanced[['Recency', 'Frequency', 'Monetary', 'Time']]\n",
    "y_balanced = df_balanced['DonatedBlood']\n",
    "\n",
    "# Dividir entre entrenamiento y prueba\n",
    "from sklearn.model_selection import train_test_split\n",
    "\n",
    "X_train_bal, X_test_bal, y_train_bal, y_test_bal = train_test_split(\n",
    "    X_balanced, y_balanced, test_size=0.2, random_state=42\n",
    ")\n"
   ]
  },
  {
   "cell_type": "code",
   "execution_count": 37,
   "id": "c4bf92be",
   "metadata": {},
   "outputs": [
    {
     "name": "stdout",
     "output_type": "stream",
     "text": [
      "=== Random Forest (balanced data) ===\n",
      "              precision    recall  f1-score   support\n",
      "\n",
      "           0       0.92      0.65      0.76       128\n",
      "           1       0.67      0.93      0.78       100\n",
      "\n",
      "    accuracy                           0.77       228\n",
      "   macro avg       0.80      0.79      0.77       228\n",
      "weighted avg       0.81      0.77      0.77       228\n",
      "\n",
      "\n",
      "=== Regresión Logística (NO balanceada, balanced data) ===\n",
      "              precision    recall  f1-score   support\n",
      "\n",
      "           0       0.77      0.63      0.70       128\n",
      "           1       0.62      0.76      0.68       100\n",
      "\n",
      "    accuracy                           0.69       228\n",
      "   macro avg       0.69      0.70      0.69       228\n",
      "weighted avg       0.70      0.69      0.69       228\n",
      "\n",
      "\n",
      "=== Árbol de Decisión (balanced data) ===\n",
      "              precision    recall  f1-score   support\n",
      "\n",
      "           0       0.91      0.70      0.79       128\n",
      "           1       0.70      0.91      0.79       100\n",
      "\n",
      "    accuracy                           0.79       228\n",
      "   macro avg       0.80      0.80      0.79       228\n",
      "weighted avg       0.82      0.79      0.79       228\n",
      "\n"
     ]
    }
   ],
   "source": [
    "from sklearn.ensemble import RandomForestClassifier\n",
    "from sklearn.linear_model import LogisticRegression\n",
    "from sklearn.tree import DecisionTreeClassifier\n",
    "from sklearn.metrics import classification_report\n",
    "\n",
    "# Modelo 1: Random Forest\n",
    "rf_bal = RandomForestClassifier(random_state=42)\n",
    "rf_bal.fit(X_train_bal, y_train_bal)\n",
    "print(\"=== Random Forest (balanced data) ===\")\n",
    "print(classification_report(y_test_bal, rf_bal.predict(X_test_bal)))\n",
    "\n",
    "# Modelo 2: Regresión Logística NO balanceada\n",
    "log_unbal = LogisticRegression(random_state=42, max_iter=1000)\n",
    "log_unbal.fit(X_train_bal, y_train_bal)\n",
    "print(\"\\n=== Regresión Logística (NO balanceada, balanced data) ===\")\n",
    "print(classification_report(y_test_bal, log_unbal.predict(X_test_bal)))\n",
    "\n",
    "# # Modelo 3: Regresión Logística balanceada (aunque ya está balanceado el dataset)\n",
    "# log_bal = LogisticRegression(class_weight='balanced', random_state=42, max_iter=1000)\n",
    "# log_bal.fit(X_train_bal, y_train_bal)\n",
    "# print(\"\\n=== Regresión Logística (balanceada, balanced data) ===\")\n",
    "# print(classification_report(y_test_bal, log_bal.predict(X_test_bal)))\n",
    "\n",
    "# Modelo 4: Árbol de Decisión\n",
    "tree_bal = DecisionTreeClassifier(random_state=42)\n",
    "tree_bal.fit(X_train_bal, y_train_bal)\n",
    "print(\"\\n=== Árbol de Decisión (balanced data) ===\")\n",
    "print(classification_report(y_test_bal, tree_bal.predict(X_test_bal)))\n"
   ]
  },
  {
   "cell_type": "markdown",
   "id": "88ea3cc8",
   "metadata": {},
   "source": [
    "## 📊 Comparación de Modelos con Dataset Balanceado\n",
    "\n",
    "| Modelo                                | Accuracy | F1-Score Clase 0 | F1-Score Clase 1 | Recall Clase 1 | Comentario clave |\n",
    "|--------------------------------------|----------|------------------|------------------|----------------|------------------|\n",
    "| **Random Forest**                    | 0.77     | 0.76             | 0.78             | 0.93           | Excelente recall para donantes, muy equilibrado. |\n",
    "| **Regresión Logística (NO balanceada)** | 0.69     | 0.70             | 0.68             | 0.76           | Buen desempeño con dataset balanceado, aunque algo más débil en clase 0. |\n",
    "| **Regresión Logística (balanceada)** | 0.68     | 0.69             | 0.67             | 0.74           | Muy similar a la no balanceada en este escenario. |\n",
    "| **Árbol de Decisión**                | **0.79** | **0.79**         | **0.79**         | 0.91           | Mejor desempeño global, balanceado en ambas clases. ✅ |\n"
   ]
  },
  {
   "cell_type": "markdown",
   "id": "966e92ed",
   "metadata": {},
   "source": [
    "## 📊 Comparación de Modelos con Dataset No Balanceado\n",
    "\n",
    "| Modelo                                | Accuracy | F1-Score Clase 0 | F1-Score Clase 1 | Recall Clase 1 | Comentario clave |\n",
    "|--------------------------------------|----------|------------------|------------------|----------------|------------------|\n",
    "| **Random Forest**                    | 0.72     | 0.82             | 0.30             | 0.24           | Alto accuracy, pero muy mal identificando donantes. |\n",
    "| **Regresión Logística (NO balanceada)** | 0.76     | 0.86             | 0.18             | 0.11           | Acierta bien los no donantes, pero casi ignora a los donantes. |\n",
    "| **Regresión Logística (balanceada)** | 0.66     | 0.74             | 0.51             | 0.73           | Mucho mejor en recall de donantes, aunque baja el accuracy total. |\n",
    "| **Árbol de Decisión**                | 0.65     | 0.78             | 0.24             | 0.22           | Algo mejor que Random Forest en clase 0, pero\n"
   ]
  }
 ],
 "metadata": {
  "kernelspec": {
   "display_name": "base",
   "language": "python",
   "name": "python3"
  },
  "language_info": {
   "codemirror_mode": {
    "name": "ipython",
    "version": 3
   },
   "file_extension": ".py",
   "mimetype": "text/x-python",
   "name": "python",
   "nbconvert_exporter": "python",
   "pygments_lexer": "ipython3",
   "version": "3.12.7"
  }
 },
 "nbformat": 4,
 "nbformat_minor": 5
}
